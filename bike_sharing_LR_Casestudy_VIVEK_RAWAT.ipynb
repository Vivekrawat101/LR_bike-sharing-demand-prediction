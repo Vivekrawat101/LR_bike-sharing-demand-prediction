{
 "cells": [
  {
   "cell_type": "markdown",
   "id": "774bac26",
   "metadata": {},
   "source": [
    "## Problem Statement\n",
    "\n",
    "A bike-sharing system is a service in which bikes are made available for shared use to individuals on a short-term basis for a price or free. Many bike share systems allow people to borrow a bike from a \"dock\" which is usually computer-controlled wherein the user enters the payment information, and the system unlocks it. This bike can then be returned to another dock belonging to the same system.\n",
    "\n",
    "A US bike-sharing provider, BoomBikes, has recently suffered considerable dips in their revenues due to the ongoing Corona pandemic. The company is finding it very difficult to sustain in the current market scenario. So, it has decided to come up with a mindful business plan to be able to accelerate its revenue as soon as the ongoing lockdown comes to an end, and the economy restores to a healthy state.\n",
    "\n",
    "In such an attempt, BoomBikes aspires to understand the demand for shared bikes among the people after this ongoing quarantine situation ends across the nation due to Covid-19. They have planned this to prepare themselves to cater to the people's needs once the situation gets better all around and stand out from other service providers and make huge profits.\n",
    "\n",
    "They have contracted a consulting company to understand the factors on which the demand for these shared bikes depends. Specifically, they want to understand the factors affecting the demand for these shared bikes in the American market. The company wants to know:\n",
    "\n",
    "- Which variables are significant in predicting the demand for shared bikes.\n",
    "- How well those variables describe the bike demands\n",
    "\n",
    "Based on various meteorological surveys and people's styles, the service provider firm has gathered a large dataset on daily bike demands across the American market based on some factors.\n",
    "\n",
    "### Business Goal:\n",
    "You are required to model the demand for shared bikes with the available independent variables. It will be used by the management to understand how exactly the demands vary with different features. They can accordingly manipulate the business strategy to meet the demand levels and meet the customer's expectations. Further, the model will be a good way for management to understand the demand dynamics of a new market.\n"
   ]
  },
  {
   "cell_type": "code",
   "execution_count": null,
   "id": "initial_id",
   "metadata": {
    "ExecuteTime": {
     "end_time": "2024-02-29T10:22:25.070339Z",
     "start_time": "2024-02-29T10:22:25.006294Z"
    },
    "collapsed": true,
    "jupyter": {
     "outputs_hidden": true
    }
   },
   "outputs": [],
   "source": [
    "# Importing Important Liberaries\n",
    "import numpy as np\n",
    "import pandas as pd\n",
    "import matplotlib.pyplot as plt\n",
    "import seaborn as sns\n",
    "from sklearn.linear_model import LinearRegression\n",
    "from sklearn.feature_selection import RFE\n",
    "from sklearn.model_selection import train_test_split\n",
    "from sklearn.metrics import r2_score\n",
    "from sklearn.preprocessing import MinMaxScaler\n",
    "from statsmodels.stats.outliers_influence import variance_inflation_factor\n",
    "import statsmodels.api as sm\n",
    "\n",
    "import warnings\n",
    "warnings.filterwarnings('ignore')\n",
    "%matplotlib inline"
   ]
  },
  {
   "cell_type": "markdown",
   "id": "f0ba67c2c40e1c22",
   "metadata": {
    "collapsed": false
   },
   "source": [
    "### Reading and understanding the data inside day.csv"
   ]
  },
  {
   "cell_type": "code",
   "execution_count": null,
   "id": "4085318e9e60da16",
   "metadata": {
    "ExecuteTime": {
     "end_time": "2024-02-29T10:22:25.238996Z",
     "start_time": "2024-02-29T10:22:25.182353Z"
    },
    "collapsed": false
   },
   "outputs": [],
   "source": [
    "bike_df = pd.read_csv('day.csv')\n",
    "bike_df.head()"
   ]
  },
  {
   "cell_type": "code",
   "execution_count": null,
   "id": "b51bbb26f19dde34",
   "metadata": {
    "ExecuteTime": {
     "end_time": "2024-02-29T10:22:25.249738Z",
     "start_time": "2024-02-29T10:22:25.242019Z"
    },
    "collapsed": false
   },
   "outputs": [],
   "source": [
    "#Checking the shape of bike_df\n",
    "bike_df.shape"
   ]
  },
  {
   "cell_type": "markdown",
   "id": "5b35972b0d69f544",
   "metadata": {
    "collapsed": false
   },
   "source": [
    "day.csv has 730 rows and 16 columns."
   ]
  },
  {
   "cell_type": "code",
   "execution_count": null,
   "id": "a2159e28157ffad6",
   "metadata": {
    "ExecuteTime": {
     "end_time": "2024-02-29T10:22:25.319934Z",
     "start_time": "2024-02-29T10:22:25.282765Z"
    },
    "collapsed": false
   },
   "outputs": [],
   "source": [
    "#Checking for null values and datatype info\n",
    "bike_df.info()"
   ]
  },
  {
   "cell_type": "code",
   "execution_count": null,
   "id": "e1dfcb8061f3bdf6",
   "metadata": {
    "ExecuteTime": {
     "end_time": "2024-02-29T10:22:25.378483Z",
     "start_time": "2024-02-29T10:22:25.322111Z"
    },
    "collapsed": false
   },
   "outputs": [],
   "source": [
    "bike_df.describe()"
   ]
  },
  {
   "cell_type": "code",
   "execution_count": null,
   "id": "ad961bcbfdabdd52",
   "metadata": {
    "ExecuteTime": {
     "end_time": "2024-02-29T10:22:25.393838Z",
     "start_time": "2024-02-29T10:22:25.382413Z"
    },
    "collapsed": false
   },
   "outputs": [],
   "source": [
    "bike_df.size"
   ]
  },
  {
   "cell_type": "code",
   "execution_count": null,
   "id": "890a6f00cad67944",
   "metadata": {
    "ExecuteTime": {
     "end_time": "2024-02-29T10:22:25.424823Z",
     "start_time": "2024-02-29T10:22:25.411403Z"
    },
    "collapsed": false
   },
   "outputs": [],
   "source": [
    "#Checking bike_df for missing values\n",
    "bike_df.isnull().sum()"
   ]
  },
  {
   "cell_type": "markdown",
   "id": "e090ebd5",
   "metadata": {},
   "source": [
    "## Data Cleaning"
   ]
  },
  {
   "cell_type": "markdown",
   "id": "dfd4f8a9",
   "metadata": {},
   "source": [
    "### Remove Unnecessary Columns for Analysis\n",
    "- `instant`: This serves as the record index and isn't pertinent to our analysis.\n",
    "- `dteday`: Features such as year, month, and weekday already cover the information provided by this column.\n",
    "- `casual` and `registered`: These are encompassed within the `cnt` column, which represents the sum of both values.\n"
   ]
  },
  {
   "cell_type": "code",
   "execution_count": null,
   "id": "1d11d784d49b8a9a",
   "metadata": {
    "ExecuteTime": {
     "end_time": "2024-02-29T10:22:25.564173Z",
     "start_time": "2024-02-29T10:22:25.523096Z"
    },
    "collapsed": false
   },
   "outputs": [],
   "source": [
    "#dropping instant column as it is merely a index column which has no significance for our target\n",
    "bike_df.drop(['instant'],axis=1,inplace=True)"
   ]
  },
  {
   "cell_type": "code",
   "execution_count": null,
   "id": "45f8cd42a44037b9",
   "metadata": {
    "ExecuteTime": {
     "end_time": "2024-02-29T10:22:25.898135Z",
     "start_time": "2024-02-29T10:22:25.891188Z"
    },
    "collapsed": false
   },
   "outputs": [],
   "source": [
    "#dteday is not useful as month and weekday are covering it\n",
    "bike_df.drop(['dteday'],axis=1,inplace=True)"
   ]
  },
  {
   "cell_type": "code",
   "execution_count": null,
   "id": "5b45ab6a7600b2f2",
   "metadata": {
    "ExecuteTime": {
     "end_time": "2024-02-29T10:22:26.067949Z",
     "start_time": "2024-02-29T10:22:26.057125Z"
    },
    "collapsed": false
   },
   "outputs": [],
   "source": [
    "#Removing casual and registered as cnt is sum of these\n",
    "bike_df.drop(['casual'],axis=1,inplace=True)\n",
    "bike_df.drop(['registered'],axis=1,inplace=True)"
   ]
  },
  {
   "cell_type": "markdown",
   "id": "9fa8bce26ab9b54a",
   "metadata": {
    "collapsed": false
   },
   "source": [
    "### bike_df after dropping the selected columns"
   ]
  },
  {
   "cell_type": "code",
   "execution_count": null,
   "id": "8d2f9593d29a13d6",
   "metadata": {
    "ExecuteTime": {
     "end_time": "2024-02-29T10:22:26.334943Z",
     "start_time": "2024-02-29T10:22:26.311943Z"
    },
    "collapsed": false
   },
   "outputs": [],
   "source": [
    "bike_df.head()"
   ]
  },
  {
   "cell_type": "code",
   "execution_count": null,
   "id": "30718f0c4b5f269a",
   "metadata": {
    "ExecuteTime": {
     "end_time": "2024-02-29T10:22:26.401156Z",
     "start_time": "2024-02-29T10:22:26.387938Z"
    },
    "collapsed": false
   },
   "outputs": [],
   "source": [
    "bike_df.info()"
   ]
  },
  {
   "cell_type": "code",
   "execution_count": null,
   "id": "b8735eb9fa2422ca",
   "metadata": {
    "ExecuteTime": {
     "end_time": "2024-02-29T10:22:26.514157Z",
     "start_time": "2024-02-29T10:22:26.483151Z"
    },
    "collapsed": false
   },
   "outputs": [],
   "source": [
    "bike_df.corr()"
   ]
  },
  {
   "cell_type": "markdown",
   "id": "c8df330303aa9935",
   "metadata": {
    "collapsed": false
   },
   "source": [
    "From the correlation we can see that weekday, mnth, yr columns should be converted to non-numerical datatype."
   ]
  },
  {
   "cell_type": "markdown",
   "id": "6e26295d543d4de3",
   "metadata": {
    "collapsed": false
   },
   "source": [
    "### Handling Outliers"
   ]
  },
  {
   "cell_type": "code",
   "execution_count": null,
   "id": "cc7539bd3ecba2b8",
   "metadata": {
    "ExecuteTime": {
     "end_time": "2024-02-29T10:22:26.556939Z",
     "start_time": "2024-02-29T10:22:26.532150Z"
    },
    "collapsed": false
   },
   "outputs": [],
   "source": [
    "bike_df.nunique()"
   ]
  },
  {
   "cell_type": "code",
   "execution_count": null,
   "id": "ee52699250878f19",
   "metadata": {
    "ExecuteTime": {
     "end_time": "2024-02-29T10:22:27.279700Z",
     "start_time": "2024-02-29T10:22:26.649945Z"
    },
    "collapsed": false
   },
   "outputs": [],
   "source": [
    "cols = ['temp', 'atemp', 'hum', 'windspeed']\n",
    "plt.figure(figsize=(18,4))\n",
    "\n",
    "i = 1\n",
    "for col in cols:\n",
    "    plt.subplot(1,4,i)\n",
    "    sns.boxplot(y=col, data=bike_df)\n",
    "    i+=1"
   ]
  },
  {
   "cell_type": "markdown",
   "id": "20ab465545dabe10",
   "metadata": {
    "collapsed": false
   },
   "source": [
    "#### Above boxplots shows that there are no outliers present."
   ]
  },
  {
   "cell_type": "markdown",
   "id": "d47a805f6701a5cd",
   "metadata": {
    "collapsed": false
   },
   "source": [
    "### Exploratory Data Analysis (EDA)"
   ]
  },
  {
   "cell_type": "code",
   "execution_count": null,
   "id": "3e559d39e3eee0ec",
   "metadata": {
    "ExecuteTime": {
     "end_time": "2024-02-29T10:22:27.311991Z",
     "start_time": "2024-02-29T10:22:27.281698Z"
    },
    "collapsed": false
   },
   "outputs": [],
   "source": [
    "bike_df.season.replace({1:\"spring\", 2:\"summer\", 3:\"fall\", 4:\"winter\"},inplace = True)\n",
    "\n",
    "bike_df.weathersit.replace({1:'Clear',2:'Misty',3:'Light_snowrain',4:'Heavy_snowrain'},inplace = True)\n",
    "\n",
    "bike_df.mnth = bike_df.mnth.replace({1: 'jan',2: 'feb',3: 'mar',4: 'apr',5: 'may',6: 'jun',\n",
    "                                     7: 'jul',8: 'aug',9: 'sept',10: 'oct',11: 'nov',12: 'dec'})\n",
    "\n",
    "bike_df.weekday = bike_df.weekday.replace({0: 'sun',1: 'mon',2: 'tue',3: 'wed',4: 'thu',5: 'fri',6: 'sat'})\n",
    "bike_df.head()"
   ]
  },
  {
   "cell_type": "markdown",
   "id": "8df4dd64a6ebf36",
   "metadata": {
    "collapsed": false
   },
   "source": [
    "### Drawing pairplots to check for linear relationship"
   ]
  },
  {
   "cell_type": "code",
   "execution_count": null,
   "id": "8e4793e66c365bbc",
   "metadata": {
    "ExecuteTime": {
     "end_time": "2024-02-29T10:22:32.692876Z",
     "start_time": "2024-02-29T10:22:27.313007Z"
    },
    "collapsed": false
   },
   "outputs": [],
   "source": [
    "plt.figure(figsize = (15,30))\n",
    "sns.pairplot(data=bike_df,vars=['cnt', 'temp', 'atemp', 'hum','windspeed'])\n",
    "plt.show()"
   ]
  },
  {
   "cell_type": "markdown",
   "id": "7e48bc96ff7d5696",
   "metadata": {
    "collapsed": false
   },
   "source": [
    "- So from the above plots we can clearly understand that temp and atemp are having high correlation\n",
    "- And from the plots we can also say that there is alinear relationship between TEMP and ATEMP"
   ]
  },
  {
   "cell_type": "markdown",
   "id": "e8dc6bf44b041001",
   "metadata": {
    "collapsed": false
   },
   "source": [
    "### Visualising data to find correlation from numerical variables"
   ]
  },
  {
   "cell_type": "code",
   "execution_count": null,
   "id": "635add2780f0ba3",
   "metadata": {
    "ExecuteTime": {
     "end_time": "2024-02-29T10:22:42.591356Z",
     "start_time": "2024-02-29T10:22:32.731468Z"
    },
    "collapsed": false
   },
   "outputs": [],
   "source": [
    "plt.figure(figsize=(20,15))\n",
    "sns.pairplot(bike_df)\n",
    "plt.show()"
   ]
  },
  {
   "cell_type": "markdown",
   "id": "84e45611a6c55092",
   "metadata": {
    "collapsed": false
   },
   "source": [
    "### Heatmap for correlation between numeric variables"
   ]
  },
  {
   "cell_type": "code",
   "execution_count": null,
   "id": "9f831b6c7b57ec13",
   "metadata": {
    "ExecuteTime": {
     "end_time": "2024-02-29T10:26:33.328949Z",
     "start_time": "2024-02-29T10:26:33.279096Z"
    },
    "collapsed": false
   },
   "outputs": [],
   "source": [
    "bike_df.dtypes"
   ]
  },
  {
   "cell_type": "code",
   "execution_count": null,
   "id": "d11c9c7e183c3245",
   "metadata": {
    "ExecuteTime": {
     "end_time": "2024-02-29T10:22:43.439825Z",
     "start_time": "2024-02-29T10:22:42.595359Z"
    },
    "collapsed": false
   },
   "outputs": [],
   "source": [
    "plt.figure(figsize=(15,10))\n",
    "sns.heatmap(bike_df.corr(),cmap=\"YlGnBu\",annot=True)\n",
    "plt.show()"
   ]
  },
  {
   "cell_type": "markdown",
   "id": "ca8ecb0a",
   "metadata": {},
   "source": [
    "## Analysis of Categorical Variables\n",
    "\n",
    "There are several categorical variables that have a significant effect on the dependent variable 'cnt':\n",
    "\n",
    "- Season\n",
    "- Month (mnth)\n",
    "- Year (yr)\n",
    "- Weekday\n",
    "- Working day\n",
    "- Weathersit\n",
    "\n",
    "These variables play a crucial role in determining the value of 'cnt'. The figure below shows the correlation among these variables:"
   ]
  },
  {
   "cell_type": "code",
   "execution_count": null,
   "id": "8525a32774a22cc6",
   "metadata": {
    "ExecuteTime": {
     "start_time": "2024-02-29T10:22:43.441822Z"
    },
    "collapsed": false
   },
   "outputs": [],
   "source": [
    "plt.figure(figsize=(20,15))\n",
    "\n",
    "plt.subplot(2,3,1)\n",
    "sns.boxplot(x='season',y='cnt',data=bike_df)\n",
    "\n",
    "plt.subplot(2,3,2)\n",
    "sns.boxplot(x='yr',y='cnt',data=bike_df)\n",
    "\n",
    "plt.subplot(2,3,3)\n",
    "sns.boxplot(x='mnth',y='cnt',data=bike_df)\n",
    "\n",
    "plt.subplot(2,3,4)\n",
    "sns.boxplot(x='weekday',y='cnt',data=bike_df)\n",
    "\n",
    "plt.subplot(2,3,5)\n",
    "sns.boxplot(x='workingday',y='cnt',data=bike_df)\n",
    "\n",
    "plt.subplot(2,3,6)\n",
    "sns.boxplot(x='weathersit',y='cnt',data=bike_df)"
   ]
  },
  {
   "cell_type": "markdown",
   "id": "72cfbd2a",
   "metadata": {},
   "source": [
    "### Correlation between numeric features "
   ]
  },
  {
   "cell_type": "code",
   "execution_count": null,
   "id": "d68783c66e85700c",
   "metadata": {
    "collapsed": false
   },
   "outputs": [],
   "source": [
    "num_features = [\"temp\",\"atemp\",\"hum\",\"windspeed\",\"cnt\"]\n",
    "plt.figure(figsize=(15,8),dpi=130)\n",
    "plt.title(\"Correlation betweeen numeric features\",fontsize=16)\n",
    "sns.heatmap(bike_df[num_features].corr(),annot= True,cmap=\"mako\")\n",
    "plt.show()"
   ]
  },
  {
   "cell_type": "code",
   "execution_count": null,
   "id": "8207a82116c7217d",
   "metadata": {
    "ExecuteTime": {
     "start_time": "2024-02-29T10:22:43.444821Z"
    },
    "collapsed": false
   },
   "outputs": [],
   "source": [
    "bike_df.describe()"
   ]
  },
  {
   "cell_type": "markdown",
   "id": "a03ce5d9",
   "metadata": {},
   "source": [
    "## Data preparation for linear regression"
   ]
  },
  {
   "cell_type": "markdown",
   "id": "342afea8",
   "metadata": {},
   "source": [
    "#### Creating dummy variables for categorical variables:\n",
    "- mnth\n",
    "- weekday\n",
    "- weathersit\n",
    "- season"
   ]
  },
  {
   "cell_type": "code",
   "execution_count": null,
   "id": "9cdd769a",
   "metadata": {},
   "outputs": [],
   "source": [
    "months_df=pd.get_dummies(bike_df.mnth,drop_first=True)\n",
    "weekdays_df=pd.get_dummies(bike_df.weekday,drop_first=True)\n",
    "weathersit_df=pd.get_dummies(bike_df.weathersit,drop_first=True)\n",
    "seasons_df=pd.get_dummies(bike_df.season,drop_first=True)"
   ]
  },
  {
   "cell_type": "code",
   "execution_count": null,
   "id": "40e17531",
   "metadata": {},
   "outputs": [],
   "source": [
    "bike_df.columns"
   ]
  },
  {
   "cell_type": "code",
   "execution_count": null,
   "id": "00fa64cd",
   "metadata": {},
   "outputs": [],
   "source": [
    "bike_df.head()"
   ]
  },
  {
   "cell_type": "code",
   "execution_count": null,
   "id": "2bbc87ed",
   "metadata": {},
   "outputs": [],
   "source": [
    "df_new = pd.concat([bike_df,months_df,weekdays_df,weathersit_df,seasons_df],axis=1)"
   ]
  },
  {
   "cell_type": "code",
   "execution_count": null,
   "id": "5d1e9022",
   "metadata": {},
   "outputs": [],
   "source": [
    "df_new.head()"
   ]
  },
  {
   "cell_type": "code",
   "execution_count": null,
   "id": "a6edbbb4",
   "metadata": {},
   "outputs": [],
   "source": [
    "df_new.info()"
   ]
  },
  {
   "cell_type": "code",
   "execution_count": null,
   "id": "b26d28ba",
   "metadata": {},
   "outputs": [],
   "source": [
    "# dropping unnecessary columns as we have already created dummy variable out of it.\n",
    "\n",
    "df_new.drop(['season','mnth','weekday','weathersit'], axis = 1, inplace = True)"
   ]
  },
  {
   "cell_type": "code",
   "execution_count": null,
   "id": "2da136f8",
   "metadata": {},
   "outputs": [],
   "source": [
    "df_new.head()"
   ]
  },
  {
   "cell_type": "markdown",
   "id": "6bdd2317",
   "metadata": {},
   "source": [
    "### Splitting data into Training and Testing Sets"
   ]
  },
  {
   "cell_type": "code",
   "execution_count": null,
   "id": "85b7bb86",
   "metadata": {},
   "outputs": [],
   "source": [
    "#y to contain only target variable\n",
    "from sklearn.model_selection import train_test_split\n",
    "from sklearn.preprocessing import MinMaxScaler\n",
    "\n",
    "# splitting the dataframe into Train and Test\n",
    "\n",
    "np.random.seed(0)\n",
    "df_train, df_test = train_test_split(df_new, train_size = 0.7, random_state = 100)"
   ]
  },
  {
   "cell_type": "code",
   "execution_count": null,
   "id": "88c8d327",
   "metadata": {},
   "outputs": [],
   "source": [
    "df_train.shape"
   ]
  },
  {
   "cell_type": "code",
   "execution_count": null,
   "id": "0fc68f0f",
   "metadata": {},
   "outputs": [],
   "source": [
    "df_test.shape"
   ]
  },
  {
   "cell_type": "code",
   "execution_count": null,
   "id": "ade1c926",
   "metadata": {},
   "outputs": [],
   "source": [
    "# Using MinMaxScaler to Rescaling the features\n",
    "\n",
    "scaler = MinMaxScaler()"
   ]
  },
  {
   "cell_type": "code",
   "execution_count": null,
   "id": "d05750b5",
   "metadata": {},
   "outputs": [],
   "source": [
    "# verifying the head of dataset before scaling.\n",
    "\n",
    "df_train.head()"
   ]
  },
  {
   "cell_type": "code",
   "execution_count": null,
   "id": "50303fce",
   "metadata": {},
   "outputs": [],
   "source": [
    "# Apply scaler() to all the columns except the 'yes-no' and 'dummy' variables\n",
    "\n",
    "num_vars = ['temp','atemp','hum','windspeed','cnt']\n",
    "df_train[num_vars] = scaler.fit_transform(df_train[num_vars])"
   ]
  },
  {
   "cell_type": "code",
   "execution_count": null,
   "id": "993dc724",
   "metadata": {},
   "outputs": [],
   "source": [
    "df_train.head()"
   ]
  },
  {
   "cell_type": "code",
   "execution_count": null,
   "id": "d4c0b4a6",
   "metadata": {},
   "outputs": [],
   "source": [
    "df_train.describe()"
   ]
  },
  {
   "cell_type": "code",
   "execution_count": null,
   "id": "421008a2",
   "metadata": {},
   "outputs": [],
   "source": [
    "# check the correlation coefficients to see which variables are highly correlated\n",
    "\n",
    "plt.figure(figsize = (25,25))\n",
    "matrix = np.triu(df_train.corr())\n",
    "sns.heatmap(df_train.corr(), annot = True, cmap=\"RdYlGn\", mask=matrix)\n",
    "plt.show()"
   ]
  },
  {
   "cell_type": "markdown",
   "id": "11e35516",
   "metadata": {},
   "source": [
    "#### cnt seems to have correlation with year variable and temp. Similarly, Misty and humidity show correlation. Spring season with Jan and Feb month, Summer season with may month and Winter season with oct and nov month show good correlation."
   ]
  },
  {
   "cell_type": "code",
   "execution_count": null,
   "id": "5397e4b5",
   "metadata": {},
   "outputs": [],
   "source": [
    "# Visualizing one of the correlation to see the trends via Scatter plot.\n",
    "\n",
    "plt.figure(figsize=[6,6])\n",
    "plt.scatter(df_train.temp, df_train.cnt)\n",
    "plt.show()"
   ]
  },
  {
   "cell_type": "markdown",
   "id": "6d76e86d",
   "metadata": {},
   "source": [
    "Visualization confirms the positive correlation between temp and cnt."
   ]
  },
  {
   "cell_type": "code",
   "execution_count": null,
   "id": "8a41bb7e",
   "metadata": {},
   "outputs": [],
   "source": [
    "# Building the Linear Model\n",
    "\n",
    "y_train = df_train.pop('cnt')\n",
    "X_train = df_train"
   ]
  },
  {
   "cell_type": "code",
   "execution_count": null,
   "id": "b620b8b9",
   "metadata": {},
   "outputs": [],
   "source": [
    "# Recursive feature elimination \n",
    "\n",
    "lm = LinearRegression()\n",
    "lm.fit(X_train, y_train)\n",
    "\n",
    "rfe = RFE(estimator = lm, n_features_to_select= 15)\n",
    "rfe = rfe.fit(X_train, y_train)"
   ]
  },
  {
   "cell_type": "code",
   "execution_count": null,
   "id": "7e28f48f",
   "metadata": {},
   "outputs": [],
   "source": [
    "#List of variables selected in top 15 list\n",
    "\n",
    "list(zip(X_train.columns,rfe.support_,rfe.ranking_))"
   ]
  },
  {
   "cell_type": "code",
   "execution_count": null,
   "id": "f56f195a",
   "metadata": {},
   "outputs": [],
   "source": [
    "# selecting the selected variable via RFE in col list\n",
    "\n",
    "col = X_train.columns[rfe.support_]\n",
    "print(col)"
   ]
  },
  {
   "cell_type": "code",
   "execution_count": null,
   "id": "6923e051",
   "metadata": {},
   "outputs": [],
   "source": [
    "# checking which columns has been rejected\n",
    "\n",
    "X_train.columns[~rfe.support_]"
   ]
  },
  {
   "cell_type": "code",
   "execution_count": null,
   "id": "916d3693",
   "metadata": {},
   "outputs": [],
   "source": [
    "# Generic function to calculate VIF of variables\n",
    "\n",
    "def calculateVIF(df):\n",
    "    vif = pd.DataFrame()\n",
    "    vif['Features'] = df.columns\n",
    "    vif['VIF'] = [variance_inflation_factor(df.values, i) for i in range(df.shape[1])]\n",
    "    vif['VIF'] = round(vif['VIF'], 2)\n",
    "    vif = vif.sort_values(by = \"VIF\", ascending = False)\n",
    "    return vif "
   ]
  },
  {
   "cell_type": "code",
   "execution_count": null,
   "id": "ceb476ce",
   "metadata": {},
   "outputs": [],
   "source": [
    "# dataframe with RFE selected variables\n",
    "\n",
    "X_train_rfe = X_train[col]"
   ]
  },
  {
   "cell_type": "code",
   "execution_count": null,
   "id": "03068c6d",
   "metadata": {},
   "outputs": [],
   "source": [
    "# calculate VIF\n",
    "\n",
    "calculateVIF(X_train_rfe)"
   ]
  },
  {
   "cell_type": "markdown",
   "id": "6b8fe0f0",
   "metadata": {},
   "source": [
    "#### hum (humidity) shows high VIF value"
   ]
  },
  {
   "cell_type": "markdown",
   "id": "2923a30a",
   "metadata": {},
   "source": [
    "### Building Linear Model"
   ]
  },
  {
   "cell_type": "code",
   "execution_count": null,
   "id": "96531ed1",
   "metadata": {},
   "outputs": [],
   "source": [
    "# Building 1st linear regression model\n",
    "\n",
    "X_train_lm_1 = sm.add_constant(X_train_rfe)\n",
    "lr_1 = sm.OLS(y_train,X_train_lm_1).fit()\n",
    "print(lr_1.summary())"
   ]
  },
  {
   "cell_type": "code",
   "execution_count": null,
   "id": "89754aeb",
   "metadata": {},
   "outputs": [],
   "source": [
    "# As humidity shows high VIF values hence we can drop it\n",
    "X_train_new = X_train_rfe.drop(['hum'], axis = 1)\n",
    "\n",
    "# Run the function to calculate VIF for the new model\n",
    "calculateVIF(X_train_new)"
   ]
  },
  {
   "cell_type": "markdown",
   "id": "a759c320",
   "metadata": {},
   "source": [
    "Trying to reduce VIF values little more.\n"
   ]
  },
  {
   "cell_type": "code",
   "execution_count": null,
   "id": "13e00d31",
   "metadata": {},
   "outputs": [],
   "source": [
    "# Building 2nd linear regression model\n",
    "\n",
    "X_train_lm_2 = sm.add_constant(X_train_new)\n",
    "lr_2 = sm.OLS(y_train,X_train_lm_2).fit()\n",
    "print(lr_2.summary())"
   ]
  },
  {
   "cell_type": "code",
   "execution_count": null,
   "id": "862109ec",
   "metadata": {},
   "outputs": [],
   "source": [
    "# We can drop nov variable as it has high p-value\n",
    "X_train_new = X_train_new.drop(['nov'], axis = 1)\n",
    "\n",
    "# Run the function to calculate VIF for the new model\n",
    "calculateVIF(X_train_new)"
   ]
  },
  {
   "cell_type": "code",
   "execution_count": null,
   "id": "301ec88d",
   "metadata": {},
   "outputs": [],
   "source": [
    "# Building 3rd linear regression model\n",
    "\n",
    "X_train_lm_3 = sm.add_constant(X_train_new)\n",
    "lr_3 = sm.OLS(y_train,X_train_lm_3).fit()\n",
    "print(lr_3.summary())"
   ]
  },
  {
   "cell_type": "code",
   "execution_count": null,
   "id": "346bbd28",
   "metadata": {},
   "outputs": [],
   "source": [
    "# We can drop dec variable as it has high p-value\n",
    "X_train_new = X_train_new.drop(['dec'], axis = 1)\n",
    "\n",
    "# Run the function to calculate VIF for the new model\n",
    "calculateVIF(X_train_new)"
   ]
  },
  {
   "cell_type": "code",
   "execution_count": null,
   "id": "5774a95e",
   "metadata": {},
   "outputs": [],
   "source": [
    "# Building 4th linear regression model\n",
    "\n",
    "X_train_lm_4 = sm.add_constant(X_train_new)\n",
    "lr_4 = sm.OLS(y_train,X_train_lm_4).fit()\n",
    "print(lr_4.summary())"
   ]
  },
  {
   "cell_type": "code",
   "execution_count": null,
   "id": "ce8876ea",
   "metadata": {},
   "outputs": [],
   "source": [
    "# We can drop jan variable as it has high p-value\n",
    "X_train_new = X_train_new.drop(['jan'], axis = 1)\n",
    "\n",
    "# Run the function to calculate VIF for the new model\n",
    "calculateVIF(X_train_new)"
   ]
  },
  {
   "cell_type": "code",
   "execution_count": null,
   "id": "5afbfc65",
   "metadata": {},
   "outputs": [],
   "source": [
    "# Building 5th linear regression model\n",
    "\n",
    "X_train_lm_5 = sm.add_constant(X_train_new)\n",
    "lr_5 = sm.OLS(y_train,X_train_lm_5).fit()\n",
    "print(lr_5.summary())"
   ]
  },
  {
   "cell_type": "code",
   "execution_count": null,
   "id": "b3f08d50",
   "metadata": {},
   "outputs": [],
   "source": [
    "# We can drop july variable as it has high p-value\n",
    "X_train_new = X_train_new.drop(['jul'], axis = 1)\n",
    "\n",
    "# Run the function to calculate VIF for the new model\n",
    "calculateVIF(X_train_new)"
   ]
  },
  {
   "cell_type": "code",
   "execution_count": null,
   "id": "0cef08eb",
   "metadata": {},
   "outputs": [],
   "source": [
    "# Building 6th linear regression model\n",
    "\n",
    "X_train_lm_6 = sm.add_constant(X_train_new)\n",
    "lr_6 = sm.OLS(y_train,X_train_lm_6).fit()\n",
    "print(lr_6.summary())"
   ]
  },
  {
   "cell_type": "markdown",
   "id": "62149451",
   "metadata": {},
   "source": [
    "#### We can consider the above model i.e lr_6, as it seems to have very low multicolinearity between the predictors and the p-values for all the predictors seems to be significant."
   ]
  },
  {
   "cell_type": "markdown",
   "id": "31e7d11d",
   "metadata": {},
   "source": [
    "#### F-Statistics value of 248.4 (which is greater than 1) and the p-value of 1.47e-186 i.e almost equals to zero, states that the overall model is significant"
   ]
  },
  {
   "cell_type": "code",
   "execution_count": null,
   "id": "2e7b4d65",
   "metadata": {},
   "outputs": [],
   "source": [
    "lr_6.params"
   ]
  },
  {
   "cell_type": "markdown",
   "id": "0466460f",
   "metadata": {},
   "source": [
    "## Residual Analysis of the train data and validation"
   ]
  },
  {
   "cell_type": "code",
   "execution_count": null,
   "id": "8da058f8",
   "metadata": {},
   "outputs": [],
   "source": [
    "X_train_lm_6"
   ]
  },
  {
   "cell_type": "code",
   "execution_count": null,
   "id": "4b8b89fc",
   "metadata": {},
   "outputs": [],
   "source": [
    "y_train_pred = lr_6.predict(X_train_lm_6)"
   ]
  },
  {
   "cell_type": "markdown",
   "id": "ddcc8652",
   "metadata": {},
   "source": [
    "#### Normality of error terms"
   ]
  },
  {
   "cell_type": "code",
   "execution_count": null,
   "id": "435e1894",
   "metadata": {},
   "outputs": [],
   "source": [
    "# Plot the histogram of the error terms\n",
    "fig = plt.figure()\n",
    "ax = sns.histplot((y_train - y_train_pred), bins=20, kde=True)  # Plot histogram \n",
    "plt.suptitle('Error Terms', fontsize=20)\n",
    "plt.xlabel('Errors', fontsize=18)\n",
    "\n",
    "kde_line = ax.lines[0]\n",
    "kde_line.set_color('blue')  \n",
    "plt.show()\n"
   ]
  },
  {
   "cell_type": "markdown",
   "id": "282cf6f9",
   "metadata": {},
   "source": [
    "Error terms are following normal distribution"
   ]
  },
  {
   "cell_type": "markdown",
   "id": "73a5a4c4",
   "metadata": {},
   "source": [
    "### Multi Colinearity"
   ]
  },
  {
   "cell_type": "code",
   "execution_count": null,
   "id": "354b6645",
   "metadata": {},
   "outputs": [],
   "source": [
    "calculateVIF(X_train_new)"
   ]
  },
  {
   "cell_type": "code",
   "execution_count": null,
   "id": "f31041fc",
   "metadata": {},
   "outputs": [],
   "source": [
    "plt.figure(figsize=(15,8))\n",
    "sns.heatmap(X_train_new.corr(),annot = True, cmap=\"RdYlGn\")\n",
    "plt.show()"
   ]
  },
  {
   "cell_type": "markdown",
   "id": "badf5421",
   "metadata": {},
   "source": [
    "VIF values are less than 5 which is good and also there is no multicolinearity as seen from the heatmap."
   ]
  },
  {
   "cell_type": "markdown",
   "id": "def53c75",
   "metadata": {},
   "source": [
    "Linearity"
   ]
  },
  {
   "cell_type": "code",
   "execution_count": null,
   "id": "7e5d5393",
   "metadata": {},
   "outputs": [],
   "source": [
    "# Linear relationship validation using CCPR plot\n",
    "# Component and component plus residual plot\n",
    "\n",
    "sm.graphics.plot_ccpr(lr_6, 'temp')\n",
    "plt.show()\n",
    "\n",
    "sm.graphics.plot_ccpr(lr_6, 'sept')\n",
    "plt.show()\n",
    "\n",
    "sm.graphics.plot_ccpr(lr_6, 'windspeed')\n",
    "plt.show()"
   ]
  },
  {
   "cell_type": "markdown",
   "id": "d147e846",
   "metadata": {},
   "source": [
    "Linearity can be observed from above visualizations."
   ]
  },
  {
   "cell_type": "markdown",
   "id": "7f21848b",
   "metadata": {},
   "source": [
    "Homoscedasticity"
   ]
  },
  {
   "cell_type": "code",
   "execution_count": null,
   "id": "90a0d545",
   "metadata": {},
   "outputs": [],
   "source": [
    "y_train_pred = lr_6.predict(X_train_lm_6)\n",
    "residual = y_train - y_train_pred\n",
    "sns.scatterplot(x = y_train,y = residual)\n",
    "plt.plot(y_train,(y_train - y_train), '-r')\n",
    "plt.xlabel('Count')\n",
    "plt.ylabel('Residual')\n",
    "plt.show()"
   ]
  },
  {
   "cell_type": "markdown",
   "id": "f37d6ca1",
   "metadata": {},
   "source": [
    "No visible pattern observed from above plot for residuals."
   ]
  },
  {
   "cell_type": "markdown",
   "id": "0cf30298",
   "metadata": {},
   "source": [
    "#### Independence of residuals\n",
    "\n",
    "Durbin-Watson value of final model lr_6 is 2.085, which signifies there is no autocorrelation."
   ]
  },
  {
   "cell_type": "markdown",
   "id": "a2c95ba9",
   "metadata": {},
   "source": [
    "## Making Predictions Using the Final Model\n",
    "\n",
    "Having fitted the model and verified the normality of error terms, we are now ready to proceed with making predictions using the final model, specifically the 6th model.\n"
   ]
  },
  {
   "cell_type": "code",
   "execution_count": null,
   "id": "3e530d75",
   "metadata": {},
   "outputs": [],
   "source": [
    "# Applying scaling on the test dataset\n",
    "\n",
    "num_vars = ['temp', 'atemp', 'hum', 'windspeed','cnt']\n",
    "df_test[num_vars] = scaler.transform(df_test[num_vars])\n",
    "df_test.head()"
   ]
  },
  {
   "cell_type": "code",
   "execution_count": null,
   "id": "4b958a78",
   "metadata": {},
   "outputs": [],
   "source": [
    "df_test.describe()"
   ]
  },
  {
   "cell_type": "code",
   "execution_count": null,
   "id": "92a48d3c",
   "metadata": {},
   "outputs": [],
   "source": [
    "y_test = df_test.pop('cnt')\n",
    "X_test = df_test"
   ]
  },
  {
   "cell_type": "code",
   "execution_count": null,
   "id": "cad763a3",
   "metadata": {},
   "outputs": [],
   "source": [
    "col1 = X_train_new.columns\n",
    "\n",
    "X_test = X_test[col1]\n",
    "\n",
    "# Adding constant variable to test dataframe\n",
    "X_test_lm_6 = sm.add_constant(X_test)"
   ]
  },
  {
   "cell_type": "code",
   "execution_count": null,
   "id": "8219168f",
   "metadata": {},
   "outputs": [],
   "source": [
    "y_pred = lr_6.predict(X_test_lm_6)"
   ]
  },
  {
   "cell_type": "code",
   "execution_count": null,
   "id": "b717524e",
   "metadata": {},
   "outputs": [],
   "source": [
    "r2 = r2_score(y_test, y_pred)\n",
    "round(r2,4)"
   ]
  },
  {
   "cell_type": "markdown",
   "id": "9891547d",
   "metadata": {},
   "source": [
    " ## Model Evaluation"
   ]
  },
  {
   "cell_type": "code",
   "execution_count": null,
   "id": "379a3f81",
   "metadata": {},
   "outputs": [],
   "source": [
    "# Plotting y_test and y_pred to understand the spread\n",
    "\n",
    "fig = plt.figure()\n",
    "plt.scatter(y_test, y_pred)\n",
    "fig.suptitle('y_test vs y_pred', fontsize = 20) \n",
    "plt.xlabel('y_test', fontsize = 18)\n",
    "plt.ylabel('y_pred', fontsize = 16) "
   ]
  },
  {
   "cell_type": "code",
   "execution_count": null,
   "id": "70a086d1",
   "metadata": {},
   "outputs": [],
   "source": [
    "round(lr_6.params,4)"
   ]
  },
  {
   "cell_type": "markdown",
   "id": "429136c7",
   "metadata": {},
   "source": [
    "We can see that the equation of our best fitted line is:\n",
    "\n",
    "$ cnt = 0.1909 + 0.2341  \\times  year - 0.0963  \\times  holiday + 0.4777 \\times temp - 0.1481 \\times windspeed + 0.0910 \\times sep - 0.2850 \\times Light_snowrain - 0.0787 \\times Misty - 0.0554 \\times spring + 0.0621 \\times summer + 0.0945 \\times winter $"
   ]
  },
  {
   "cell_type": "code",
   "execution_count": null,
   "id": "bbe36b3d",
   "metadata": {},
   "outputs": [],
   "source": [
    "# Calculating Adjusted R² value for the test dataset\n",
    "\n",
    "adjusted_r2 = round(1-(1-r2)*(X_test.shape[0]-1)/(X_test.shape[0]-X_test.shape[1]-1),4)\n",
    "print(adjusted_r2)"
   ]
  },
  {
   "cell_type": "code",
   "execution_count": null,
   "id": "92a68ea5",
   "metadata": {},
   "outputs": [],
   "source": [
    "# Visualizing the fit on the test data\n",
    "# plotting a Regression plot\n",
    "\n",
    "plt.figure()\n",
    "sns.regplot(x=y_test, y=y_pred, ci=68, fit_reg=True,scatter_kws={\"color\": \"blue\"}, line_kws={\"color\": \"red\"})\n",
    "plt.title('y_test vs y_pred', fontsize=20)\n",
    "plt.xlabel('y_test', fontsize=18)\n",
    "plt.ylabel('y_pred', fontsize=16)\n",
    "plt.show()"
   ]
  },
  {
   "cell_type": "markdown",
   "id": "a474d0ff",
   "metadata": {},
   "source": [
    "## Comparison between Training and Testing Dataset:\n",
    "- Train Dataset R²           : 0.833\n",
    "- Test Dataset R²            : 0.8038\n",
    "- Train Dataset Adjusted R²  : 0.829\n",
    "- Test Dataset Adjusted R²   : 0.7944\n",
    "\n",
    "#### Factors Affecting Bike Demand:\n",
    "The demand for bikes depends on various factors including year, holiday, temperature, windspeed, September, presence of light snow/rain, misty conditions, and the seasons of spring, summer, and winter.\n"
   ]
  }
 ],
 "metadata": {
  "kernelspec": {
   "display_name": "Python 3 (ipykernel)",
   "language": "python",
   "name": "python3"
  },
  "language_info": {
   "codemirror_mode": {
    "name": "ipython",
    "version": 3
   },
   "file_extension": ".py",
   "mimetype": "text/x-python",
   "name": "python",
   "nbconvert_exporter": "python",
   "pygments_lexer": "ipython3",
   "version": "3.10.9"
  }
 },
 "nbformat": 4,
 "nbformat_minor": 5
}
